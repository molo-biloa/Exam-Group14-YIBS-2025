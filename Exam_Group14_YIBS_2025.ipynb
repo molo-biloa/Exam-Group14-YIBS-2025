{
  "nbformat": 4,
  "nbformat_minor": 0,
  "metadata": {
    "colab": {
      "provenance": [],
      "gpuType": "T4",
      "authorship_tag": "ABX9TyNuIl8mb65h+cKyNovGQYmE",
      "include_colab_link": true
    },
    "kernelspec": {
      "name": "python3",
      "display_name": "Python 3"
    },
    "language_info": {
      "name": "python"
    },
    "accelerator": "GPU"
  },
  "cells": [
    {
      "cell_type": "markdown",
      "metadata": {
        "id": "view-in-github",
        "colab_type": "text"
      },
      "source": [
        "<a href=\"https://colab.research.google.com/github/molo-biloa/Exam-Group14-YIBS-2025/blob/main/Exam_Group14_YIBS_2025.ipynb\" target=\"_parent\"><img src=\"https://colab.research.google.com/assets/colab-badge.svg\" alt=\"Open In Colab\"/></a>"
      ]
    },
    {
      "cell_type": "code",
      "source": [
        "!pip install tensorflow"
      ],
      "metadata": {
        "colab": {
          "base_uri": "https://localhost:8080/"
        },
        "id": "5T_gdoCUB9zB",
        "outputId": "d05d7c5d-b31b-4831-91ff-ee433c22437b"
      },
      "execution_count": null,
      "outputs": [
        {
          "output_type": "stream",
          "name": "stdout",
          "text": [
            "Requirement already satisfied: tensorflow in /usr/local/lib/python3.11/dist-packages (2.18.0)\n",
            "Requirement already satisfied: absl-py>=1.0.0 in /usr/local/lib/python3.11/dist-packages (from tensorflow) (1.4.0)\n",
            "Requirement already satisfied: astunparse>=1.6.0 in /usr/local/lib/python3.11/dist-packages (from tensorflow) (1.6.3)\n",
            "Requirement already satisfied: flatbuffers>=24.3.25 in /usr/local/lib/python3.11/dist-packages (from tensorflow) (25.1.24)\n",
            "Requirement already satisfied: gast!=0.5.0,!=0.5.1,!=0.5.2,>=0.2.1 in /usr/local/lib/python3.11/dist-packages (from tensorflow) (0.6.0)\n",
            "Requirement already satisfied: google-pasta>=0.1.1 in /usr/local/lib/python3.11/dist-packages (from tensorflow) (0.2.0)\n",
            "Requirement already satisfied: libclang>=13.0.0 in /usr/local/lib/python3.11/dist-packages (from tensorflow) (18.1.1)\n",
            "Requirement already satisfied: opt-einsum>=2.3.2 in /usr/local/lib/python3.11/dist-packages (from tensorflow) (3.4.0)\n",
            "Requirement already satisfied: packaging in /usr/local/lib/python3.11/dist-packages (from tensorflow) (24.2)\n",
            "Requirement already satisfied: protobuf!=4.21.0,!=4.21.1,!=4.21.2,!=4.21.3,!=4.21.4,!=4.21.5,<6.0.0dev,>=3.20.3 in /usr/local/lib/python3.11/dist-packages (from tensorflow) (4.25.6)\n",
            "Requirement already satisfied: requests<3,>=2.21.0 in /usr/local/lib/python3.11/dist-packages (from tensorflow) (2.32.3)\n",
            "Requirement already satisfied: setuptools in /usr/local/lib/python3.11/dist-packages (from tensorflow) (75.1.0)\n",
            "Requirement already satisfied: six>=1.12.0 in /usr/local/lib/python3.11/dist-packages (from tensorflow) (1.17.0)\n",
            "Requirement already satisfied: termcolor>=1.1.0 in /usr/local/lib/python3.11/dist-packages (from tensorflow) (2.5.0)\n",
            "Requirement already satisfied: typing-extensions>=3.6.6 in /usr/local/lib/python3.11/dist-packages (from tensorflow) (4.12.2)\n",
            "Requirement already satisfied: wrapt>=1.11.0 in /usr/local/lib/python3.11/dist-packages (from tensorflow) (1.17.2)\n",
            "Requirement already satisfied: grpcio<2.0,>=1.24.3 in /usr/local/lib/python3.11/dist-packages (from tensorflow) (1.70.0)\n",
            "Requirement already satisfied: tensorboard<2.19,>=2.18 in /usr/local/lib/python3.11/dist-packages (from tensorflow) (2.18.0)\n",
            "Requirement already satisfied: keras>=3.5.0 in /usr/local/lib/python3.11/dist-packages (from tensorflow) (3.8.0)\n",
            "Requirement already satisfied: numpy<2.1.0,>=1.26.0 in /usr/local/lib/python3.11/dist-packages (from tensorflow) (1.26.4)\n",
            "Requirement already satisfied: h5py>=3.11.0 in /usr/local/lib/python3.11/dist-packages (from tensorflow) (3.12.1)\n",
            "Requirement already satisfied: ml-dtypes<0.5.0,>=0.4.0 in /usr/local/lib/python3.11/dist-packages (from tensorflow) (0.4.1)\n",
            "Requirement already satisfied: tensorflow-io-gcs-filesystem>=0.23.1 in /usr/local/lib/python3.11/dist-packages (from tensorflow) (0.37.1)\n",
            "Requirement already satisfied: wheel<1.0,>=0.23.0 in /usr/local/lib/python3.11/dist-packages (from astunparse>=1.6.0->tensorflow) (0.45.1)\n",
            "Requirement already satisfied: rich in /usr/local/lib/python3.11/dist-packages (from keras>=3.5.0->tensorflow) (13.9.4)\n",
            "Requirement already satisfied: namex in /usr/local/lib/python3.11/dist-packages (from keras>=3.5.0->tensorflow) (0.0.8)\n",
            "Requirement already satisfied: optree in /usr/local/lib/python3.11/dist-packages (from keras>=3.5.0->tensorflow) (0.14.0)\n",
            "Requirement already satisfied: charset-normalizer<4,>=2 in /usr/local/lib/python3.11/dist-packages (from requests<3,>=2.21.0->tensorflow) (3.4.1)\n",
            "Requirement already satisfied: idna<4,>=2.5 in /usr/local/lib/python3.11/dist-packages (from requests<3,>=2.21.0->tensorflow) (3.10)\n",
            "Requirement already satisfied: urllib3<3,>=1.21.1 in /usr/local/lib/python3.11/dist-packages (from requests<3,>=2.21.0->tensorflow) (2.3.0)\n",
            "Requirement already satisfied: certifi>=2017.4.17 in /usr/local/lib/python3.11/dist-packages (from requests<3,>=2.21.0->tensorflow) (2024.12.14)\n",
            "Requirement already satisfied: markdown>=2.6.8 in /usr/local/lib/python3.11/dist-packages (from tensorboard<2.19,>=2.18->tensorflow) (3.7)\n",
            "Requirement already satisfied: tensorboard-data-server<0.8.0,>=0.7.0 in /usr/local/lib/python3.11/dist-packages (from tensorboard<2.19,>=2.18->tensorflow) (0.7.2)\n",
            "Requirement already satisfied: werkzeug>=1.0.1 in /usr/local/lib/python3.11/dist-packages (from tensorboard<2.19,>=2.18->tensorflow) (3.1.3)\n",
            "Requirement already satisfied: MarkupSafe>=2.1.1 in /usr/local/lib/python3.11/dist-packages (from werkzeug>=1.0.1->tensorboard<2.19,>=2.18->tensorflow) (3.0.2)\n",
            "Requirement already satisfied: markdown-it-py>=2.2.0 in /usr/local/lib/python3.11/dist-packages (from rich->keras>=3.5.0->tensorflow) (3.0.0)\n",
            "Requirement already satisfied: pygments<3.0.0,>=2.13.0 in /usr/local/lib/python3.11/dist-packages (from rich->keras>=3.5.0->tensorflow) (2.18.0)\n",
            "Requirement already satisfied: mdurl~=0.1 in /usr/local/lib/python3.11/dist-packages (from markdown-it-py>=2.2.0->rich->keras>=3.5.0->tensorflow) (0.1.2)\n"
          ]
        }
      ]
    },
    {
      "cell_type": "code",
      "execution_count": null,
      "metadata": {
        "colab": {
          "base_uri": "https://localhost:8080/",
          "height": 1000
        },
        "id": "xFJA74Y-7Hq8",
        "outputId": "51153e87-1e7b-4b4a-8569-a703e36a75ef"
      },
      "outputs": [
        {
          "output_type": "stream",
          "name": "stdout",
          "text": [
            "Warning: Looks like you're using an outdated `kagglehub` version (installed: 0.3.6), please consider upgrading to the latest version (0.3.7).\n",
            "Training data shape: (60000, 28, 28)\n",
            "Test data shape: (10000, 28, 28)\n"
          ]
        },
        {
          "output_type": "display_data",
          "data": {
            "text/plain": [
              "<Figure size 1000x1000 with 9 Axes>"
            ],
            "image/png": "[encoded data removed]"
          },
          "metadata": {}
        },
        {
          "output_type": "stream",
          "name": "stderr",
          "text": [
            "/usr/local/lib/python3.11/dist-packages/keras/src/layers/convolutional/base_conv.py:107: UserWarning: Do not pass an `input_shape`/`input_dim` argument to a layer. When using Sequential models, prefer using an `Input(shape)` object as the first layer in the model instead.\n",
            "  super().__init__(activity_regularizer=activity_regularizer, **kwargs)\n"
          ]
        },
        {
          "output_type": "stream",
          "name": "stdout",
          "text": [
            "Epoch 1/10\n",
            "\u001b[1m750/750\u001b[0m \u001b[32m━━━━━━━━━━━━━━━━━━━━\u001b[0m\u001b[37m\u001b[0m \u001b[1m43s\u001b[0m 55ms/step - accuracy: 0.6854 - loss: 0.8872 - val_accuracy: 0.8497 - val_loss: 0.4052\n",
            "Epoch 2/10\n",
            "\u001b[1m750/750\u001b[0m \u001b[32m━━━━━━━━━━━━━━━━━━━━\u001b[0m\u001b[37m\u001b[0m \u001b[1m42s\u001b[0m 55ms/step - accuracy: 0.8380 - loss: 0.4452 - val_accuracy: 0.8741 - val_loss: 0.3365\n",
            "Epoch 3/10\n",
            "\u001b[1m750/750\u001b[0m \u001b[32m━━━━━━━━━━━━━━━━━━━━\u001b[0m\u001b[37m\u001b[0m \u001b[1m81s\u001b[0m 55ms/step - accuracy: 0.8600 - loss: 0.3850 - val_accuracy: 0.8821 - val_loss: 0.3192\n",
            "Epoch 4/10\n",
            "\u001b[1m750/750\u001b[0m \u001b[32m━━━━━━━━━━━━━━━━━━━━\u001b[0m\u001b[37m\u001b[0m \u001b[1m81s\u001b[0m 54ms/step - accuracy: 0.8772 - loss: 0.3374 - val_accuracy: 0.8958 - val_loss: 0.2858\n",
            "Epoch 5/10\n",
            "\u001b[1m750/750\u001b[0m \u001b[32m━━━━━━━━━━━━━━━━━━━━\u001b[0m\u001b[37m\u001b[0m \u001b[1m41s\u001b[0m 55ms/step - accuracy: 0.8869 - loss: 0.3144 - val_accuracy: 0.9004 - val_loss: 0.2672\n",
            "Epoch 6/10\n",
            "\u001b[1m750/750\u001b[0m \u001b[32m━━━━━━━━━━━━━━━━━━━━\u001b[0m\u001b[37m\u001b[0m \u001b[1m41s\u001b[0m 55ms/step - accuracy: 0.8925 - loss: 0.2914 - val_accuracy: 0.9048 - val_loss: 0.2607\n",
            "Epoch 7/10\n",
            "\u001b[1m750/750\u001b[0m \u001b[32m━━━━━━━━━━━━━━━━━━━━\u001b[0m\u001b[37m\u001b[0m \u001b[1m82s\u001b[0m 54ms/step - accuracy: 0.9005 - loss: 0.2727 - val_accuracy: 0.9030 - val_loss: 0.2576\n",
            "Epoch 8/10\n",
            "\u001b[1m750/750\u001b[0m \u001b[32m━━━━━━━━━━━━━━━━━━━━\u001b[0m\u001b[37m\u001b[0m \u001b[1m40s\u001b[0m 54ms/step - accuracy: 0.9051 - loss: 0.2592 - val_accuracy: 0.9082 - val_loss: 0.2476\n",
            "Epoch 9/10\n",
            "\u001b[1m750/750\u001b[0m \u001b[32m━━━━━━━━━━━━━━━━━━━━\u001b[0m\u001b[37m\u001b[0m \u001b[1m42s\u001b[0m 56ms/step - accuracy: 0.9117 - loss: 0.2422 - val_accuracy: 0.9107 - val_loss: 0.2471\n",
            "Epoch 10/10\n",
            "\u001b[1m750/750\u001b[0m \u001b[32m━━━━━━━━━━━━━━━━━━━━\u001b[0m\u001b[37m\u001b[0m \u001b[1m80s\u001b[0m 54ms/step - accuracy: 0.9156 - loss: 0.2292 - val_accuracy: 0.9121 - val_loss: 0.2394\n",
            "\u001b[1m313/313\u001b[0m \u001b[32m━━━━━━━━━━━━━━━━━━━━\u001b[0m\u001b[37m\u001b[0m \u001b[1m2s\u001b[0m 8ms/step - accuracy: 0.9077 - loss: 0.2542\n"
          ]
        },
        {
          "output_type": "stream",
          "name": "stderr",
          "text": [
            "WARNING:absl:You are saving your model as an HDF5 file via `model.save()` or `keras.saving.save_model(model)`. This file format is considered legacy. We recommend using instead the native Keras format, e.g. `model.save('my_model.keras')` or `keras.saving.save_model(model, 'my_model.keras')`. \n"
          ]
        },
        {
          "output_type": "stream",
          "name": "stdout",
          "text": [
            "Test accuracy: 0.91\n"
          ]
        }
      ],
      "source": [
        "# Install Kaggle API for dataset download\n",
        "!pip install -q kagglehub\n",
        "\n",
        "import numpy as np\n",
        "import matplotlib.pyplot as plt\n",
        "from tensorflow import keras\n",
        "from tensorflow.keras.models import Sequential\n",
        "from tensorflow.keras.layers import Conv2D, MaxPooling2D, Flatten, Dense, Dropout\n",
        "\n",
        "\n",
        "# Download Fashion-MNIST dataset\n",
        "path = kagglehub.dataset_download(\"zalando-research/fashionmnist\")\n",
        "\n",
        "# Load dataset using Keras (alternative if Kaggle download fails)\n",
        "(train_images, train_labels), (test_images, test_labels) = keras.datasets.fashion_mnist.load_data()\n",
        "class_names = ['T-shirt/top', 'Trouser', 'Pullover', 'Dress', 'Coat',\n",
        "               'Sandal', 'Shirt', 'Sneaker', 'Bag', 'Ankle boot']\n",
        "\n",
        "# Explore dataset\n",
        "print(f\"Training data shape: {train_images.shape}\")  # (60000, 28, 28)\n",
        "print(f\"Test data shape: {test_images.shape}\")       # (10000, 28, 28)\n",
        "\n",
        "# Plot sample images\n",
        "plt.figure(figsize=(10,10))\n",
        "for i in range(9):\n",
        "    plt.subplot(3,3,i+1)\n",
        "    plt.imshow(train_images[i], cmap='gray')\n",
        "    plt.title(class_names[train_labels[i]])\n",
        "plt.show()\n",
        "\n",
        "# Normalize pixel values to [0, 1]\n",
        "train_images = train_images / 255.0\n",
        "test_images = test_images / 255.0\n",
        "\n",
        "# Reshape for CNN input (add channel dimension)\n",
        "train_images = train_images.reshape(-1, 28, 28, 1)\n",
        "test_images = test_images.reshape(-1, 28, 28, 1)\n",
        "\n",
        "model = Sequential([\n",
        "    Conv2D(32, (3,3), activation='relu', input_shape=(28,28,1)),\n",
        "    MaxPooling2D(2,2),\n",
        "    Conv2D(64, (3,3), activation='relu'),\n",
        "    MaxPooling2D(2,2),\n",
        "    Flatten(),\n",
        "    Dense(128, activation='relu'),\n",
        "    Dropout(0.5),\n",
        "    Dense(10, activation='softmax')\n",
        "])\n",
        "\n",
        "model.compile(optimizer='adam',\n",
        "              loss='sparse_categorical_crossentropy',\n",
        "              metrics=['accuracy'])\n",
        "\n",
        "# Train the model\n",
        "history = model.fit(train_images, train_labels, epochs=10,\n",
        "                    validation_split=0.2, batch_size=64)\n",
        "\n",
        "# Evaluate\n",
        "test_loss, test_acc = model.evaluate(test_images, test_labels)\n",
        "print(f\"Test accuracy: {test_acc:.2f}\")\n",
        "\n",
        "# Save model\n",
        "model.save('fashion_mnist_cnn.h5')"
      ]
    },
    {
      "cell_type": "code",
      "source": [
        "ls"
      ],
      "metadata": {
        "colab": {
          "base_uri": "https://localhost:8080/"
        },
        "id": "A7KNZvsnF_M8",
        "outputId": "7aa2c845-fa8f-4fea-e26c-5294f09a6792"
      },
      "execution_count": null,
      "outputs": [
        {
          "output_type": "stream",
          "name": "stdout",
          "text": [
            "fashion_mnist_cnn.h5    fashion-mnist_train.csv  t10k-labels-idx1-ubyte   train-labels-idx1-ubyte\n",
            "fashion-mnist_test.csv  t10k-images-idx3-ubyte   train-images-idx3-ubyte\n"
          ]
        }
      ]
    },
    {
      "cell_type": "code",
      "source": [
        "cd ../\n"
      ],
      "metadata": {
        "id": "-9lxAC4yH8Ko",
        "outputId": "d99e56a2-6506-4e03-f5c7-3874cdda8dea",
        "colab": {
          "base_uri": "https://localhost:8080/"
        }
      },
      "execution_count": null,
      "outputs": [
        {
          "output_type": "stream",
          "name": "stdout",
          "text": [
            "/root/.cache/kagglehub/datasets/zalando-research/fashionmnist/versions\n"
          ]
        }
      ]
    },
    {
      "cell_type": "code",
      "source": [
        "ls"
      ],
      "metadata": {
        "colab": {
          "base_uri": "https://localhost:8080/"
        },
        "id": "rIcSAEpkInRG",
        "outputId": "77b84949-b43c-43bb-b27a-9952a79ddfa7"
      },
      "execution_count": null,
      "outputs": [
        {
          "output_type": "stream",
          "name": "stdout",
          "text": [
            "\u001b[0m\u001b[01;34m4\u001b[0m/\n"
          ]
        }
      ]
    },
    {
      "cell_type": "code",
      "source": [
        "cd 4"
      ],
      "metadata": {
        "colab": {
          "base_uri": "https://localhost:8080/"
        },
        "id": "Agi8A_2yI5nc",
        "outputId": "8522bd13-9ba8-40bb-8c66-5509793317ee"
      },
      "execution_count": null,
      "outputs": [
        {
          "output_type": "stream",
          "name": "stdout",
          "text": [
            "/root/.cache/kagglehub/datasets/zalando-research/fashionmnist/versions/4\n"
          ]
        }
      ]
    },
    {
      "cell_type": "code",
      "source": [
        "ls"
      ],
      "metadata": {
        "colab": {
          "base_uri": "https://localhost:8080/"
        },
        "id": "MV5UC4ZII-QW",
        "outputId": "e5036843-fedd-49d7-a825-c301a4020646"
      },
      "execution_count": null,
      "outputs": [
        {
          "output_type": "stream",
          "name": "stdout",
          "text": [
            "fashion_mnist_cnn.h5    fashion-mnist_train.csv  t10k-labels-idx1-ubyte   train-labels-idx1-ubyte\n",
            "fashion-mnist_test.csv  t10k-images-idx3-ubyte   train-images-idx3-ubyte\n"
          ]
        }
      ]
    },
    {
      "cell_type": "code",
      "source": [
        "from google.colab import files\n",
        "files.download(\"fashion_mnist_cnn.h5\")"
      ],
      "metadata": {
        "colab": {
          "base_uri": "https://localhost:8080/",
          "height": 17
        },
        "id": "n0FufJcaI_9i",
        "outputId": "ed0e98a0-7b25-48d0-c203-a121b9d0cdc3"
      },
      "execution_count": null,
      "outputs": [
        {
          "output_type": "display_data",
          "data": {
            "text/plain": [
              "<IPython.core.display.Javascript object>"
            ],
            "application/javascript": [
              "\n",
              "    async function download(id, filename, size) {\n",
              "      if (!google.colab.kernel.accessAllowed) {\n",
              "        return;\n",
              "      }\n",
              "      const div = document.createElement('div');\n",
              "      const label = document.createElement('label');\n",
              "      label.textContent = `Downloading \"${filename}\": `;\n",
              "      div.appendChild(label);\n",
              "      const progress = document.createElement('progress');\n",
              "      progress.max = size;\n",
              "      div.appendChild(progress);\n",
              "      document.body.appendChild(div);\n",
              "\n",
              "      const buffers = [];\n",
              "      let downloaded = 0;\n",
              "\n",
              "      const channel = await google.colab.kernel.comms.open(id);\n",
              "      // Send a message to notify the kernel that we're ready.\n",
              "      channel.send({})\n",
              "\n",
              "      for await (const message of channel.messages) {\n",
              "        // Send a message to notify the kernel that we're ready.\n",
              "        channel.send({})\n",
              "        if (message.buffers) {\n",
              "          for (const buffer of message.buffers) {\n",
              "            buffers.push(buffer);\n",
              "            downloaded += buffer.byteLength;\n",
              "            progress.value = downloaded;\n",
              "          }\n",
              "        }\n",
              "      }\n",
              "      const blob = new Blob(buffers, {type: 'application/binary'});\n",
              "      const a = document.createElement('a');\n",
              "      a.href = window.URL.createObjectURL(blob);\n",
              "      a.download = filename;\n",
              "      div.appendChild(a);\n",
              "      a.click();\n",
              "      div.remove();\n",
              "    }\n",
              "  "
            ]
          },
          "metadata": {}
        },
        {
          "output_type": "display_data",
          "data": {
            "text/plain": [
              "<IPython.core.display.Javascript object>"
            ],
            "application/javascript": [
              "download(\"download_944a631f-a479-492b-9717-6d0ab31a0ada\", \"fashion_mnist_cnn.h5\", 2742848)"
            ]
          },
          "metadata": {}
        }
      ]
    },
    {
      "cell_type": "code",
      "source": [
        "# Install required libraries\n",
        "!pip install torch torchvision matplotlib kagglehub\n",
        "\n",
        "import numpy as np\n",
        "import matplotlib.pyplot as plt\n",
        "import torch\n",
        "from torch import nn, optim\n",
        "from torch.utils.data import DataLoader, TensorDataset\n",
        "from torchvision import datasets, transforms\n",
        "import kagglehub\n",
        "\n",
        "# Download Fashion-MNIST dataset\n",
        "path = kagglehub.dataset_download(\"zalando-research/fashionmnist\")\n",
        "\n",
        "# Load dataset using PyTorch\n",
        "transform = transforms.Compose([transforms.ToTensor()])\n",
        "train_data = datasets.FashionMNIST(root='./data', train=True, download=True, transform=transform)\n",
        "test_data = datasets.FashionMNIST(root='./data', train=False, download=True, transform=transform)\n",
        "\n",
        "class_names = ['T-shirt/top', 'Trouser', 'Pullover', 'Dress', 'Coat',\n",
        "               'Sandal', 'Shirt', 'Sneaker', 'Bag', 'Ankle boot']\n",
        "\n",
        "# Convert to numpy arrays for visualization\n",
        "train_images = train_data.data.numpy()\n",
        "train_labels = train_data.targets.numpy()\n",
        "\n",
        "# Explore dataset\n",
        "print(f\"Training data shape: {train_images.shape}\")  # (60000, 28, 28)\n",
        "print(f\"Test data shape: {test_data.data.shape}\")    # (10000, 28, 28)\n",
        "\n",
        "# Plot sample images\n",
        "plt.figure(figsize=(10,10))\n",
        "for i in range(9):\n",
        "    plt.subplot(3,3,i+1)\n",
        "    plt.imshow(train_images[i], cmap='gray')\n",
        "    plt.title(class_names[train_labels[i]])\n",
        "plt.show()\n",
        "\n",
        "# Create DataLoaders\n",
        "train_loader = DataLoader(train_data, batch_size=64, shuffle=True)\n",
        "test_loader = DataLoader(test_data, batch_size=64)\n",
        "\n",
        "# Define CNN model\n",
        "class CNN(nn.Module):\n",
        "    def __init__(self):\n",
        "        super().__init__()\n",
        "        self.network = nn.Sequential(\n",
        "            nn.Conv2d(1, 32, kernel_size=3),    # (32, 26, 26)\n",
        "            nn.ReLU(),\n",
        "            nn.MaxPool2d(2),                   # (32, 13, 13)\n",
        "            nn.Conv2d(32, 64, kernel_size=3),  # (64, 11, 11)\n",
        "            nn.ReLU(),\n",
        "            nn.MaxPool2d(2),                   # (64, 5, 5)\n",
        "            nn.Flatten(),\n",
        "            nn.Linear(64*5*5, 128),\n",
        "            nn.ReLU(),\n",
        "            nn.Dropout(0.5),\n",
        "            nn.Linear(128, 10)\n",
        "        )\n",
        "\n",
        "    def forward(self, x):\n",
        "        return self.network(x)\n",
        "\n",
        "# Initialize model, loss function, and optimizer\n",
        "device = torch.device('cuda' if torch.cuda.is_available() else 'cpu')\n",
        "model = CNN().to(device)\n",
        "criterion = nn.CrossEntropyLoss()\n",
        "optimizer = optim.Adam(model.parameters())\n",
        "\n",
        "# Training loop with detailed logging\n",
        "epochs = 10\n",
        "for epoch in range(epochs):\n",
        "    model.train()\n",
        "    running_loss = 0.0\n",
        "    correct = 0\n",
        "    total = 0\n",
        "\n",
        "    # Training phase\n",
        "    print(f\"\\nEpoch {epoch+1}/{epochs}\")\n",
        "    print(\"-\" * 20)\n",
        "\n",
        "    for batch_idx, (images, labels) in enumerate(train_loader):\n",
        "        images, labels = images.to(device), labels.to(device)\n",
        "\n",
        "        # Forward pass\n",
        "        outputs = model(images)\n",
        "        loss = criterion(outputs, labels)\n",
        "\n",
        "        # Backward pass\n",
        "        optimizer.zero_grad()\n",
        "        loss.backward()\n",
        "        optimizer.step()\n",
        "\n",
        "        # Statistics\n",
        "        running_loss += loss.item() * images.size(0)\n",
        "        _, predicted = torch.max(outputs.data, 1)\n",
        "        correct += (predicted == labels).sum().item()\n",
        "        total += labels.size(0)\n",
        "\n",
        "        # Print every 100 batches\n",
        "        if (batch_idx + 1) % 100 == 0:\n",
        "            current_loss = running_loss / total\n",
        "            current_acc = 100 * correct / total\n",
        "            print(f\"  Batch {batch_idx+1}/{len(train_loader)}: \"\n",
        "                  f\"Loss: {current_loss:.4f} | \"\n",
        "                  f\"Accuracy: {current_acc:.2f}%\")\n",
        "\n",
        "    # Epoch statistics\n",
        "    epoch_loss = running_loss / total\n",
        "    epoch_acc = 100 * correct / total\n",
        "    print(f\"\\nEpoch {epoch+1} Summary:\")\n",
        "    print(f\"  Training Loss: {epoch_loss:.4f} | \"\n",
        "          f\"Training Accuracy: {epoch_acc:.2f}%\")\n",
        "\n",
        "    # Validation phase (optional)\n",
        "    model.eval()\n",
        "    val_loss = 0.0\n",
        "    val_correct = 0\n",
        "    val_total = 0\n",
        "    with torch.no_grad():\n",
        "        for images, labels in test_loader:  # Using test set for demonstration\n",
        "            images, labels = images.to(device), labels.to(device)\n",
        "            outputs = model(images)\n",
        "            loss = criterion(outputs, labels)\n",
        "\n",
        "            val_loss += loss.item() * images.size(0)\n",
        "            _, predicted = torch.max(outputs.data, 1)\n",
        "            val_correct += (predicted == labels).sum().item()\n",
        "            val_total += labels.size(0)\n",
        "\n",
        "    val_loss = val_loss / val_total\n",
        "    val_acc = 100 * val_correct / val_total\n",
        "    print(f\"  Validation Loss: {val_loss:.4f} | \"\n",
        "          f\"Validation Accuracy: {val_acc:.2f}%\")\n",
        "    print(\"-\" * 50)\n",
        "\n",
        "# Final evaluation\n",
        "model.eval()\n",
        "final_correct = 0\n",
        "final_total = 0\n",
        "with torch.no_grad():\n",
        "    for images, labels in test_loader:\n",
        "        images, labels = images.to(device), labels.to(device)\n",
        "        outputs = model(images)\n",
        "        _, predicted = torch.max(outputs.data, 1)\n",
        "        final_total += labels.size(0)\n",
        "        final_correct += (predicted == labels).sum().item()\n",
        "\n",
        "print(\"\\nFinal Test Results:\")\n",
        "print(\"-\" * 50)\n",
        "print(f\"Test Accuracy: {100 * final_correct / final_total:.2f}%\")\n",
        "\n",
        "# Save model\n",
        "torch.save(model.state_dict(), 'fashion_mnist_cnn_v2.pth')\n",
        "print(\"\\nModel saved successfully!\")"
      ],
      "metadata": {
        "colab": {
          "base_uri": "https://localhost:8080/",
          "height": 1000
        },
        "id": "1MGkrWDyUqbE",
        "outputId": "4cb579f3-748c-4908-907a-f2c82a7e0d85"
      },
      "execution_count": null,
      "outputs": [
        {
          "metadata": {
            "tags": null
          },
          "name": "stdout",
          "output_type": "stream",
          "text": [
            "Requirement already satisfied: torch in /usr/local/lib/python3.11/dist-packages (2.5.1+cu124)\n",
            "Requirement already satisfied: torchvision in /usr/local/lib/python3.11/dist-packages (0.20.1+cu124)\n",
            "Requirement already satisfied: matplotlib in /usr/local/lib/python3.11/dist-packages (3.10.0)\n",
            "Requirement already satisfied: kagglehub in /usr/local/lib/python3.11/dist-packages (0.3.6)\n",
            "Requirement already satisfied: filelock in /usr/local/lib/python3.11/dist-packages (from torch) (3.17.0)\n",
            "Requirement already satisfied: typing-extensions>=4.8.0 in /usr/local/lib/python3.11/dist-packages (from torch) (4.12.2)\n",
            "Requirement already satisfied: networkx in /usr/local/lib/python3.11/dist-packages (from torch) (3.4.2)\n",
            "Requirement already satisfied: jinja2 in /usr/local/lib/python3.11/dist-packages (from torch) (3.1.5)\n",
            "Requirement already satisfied: fsspec in /usr/local/lib/python3.11/dist-packages (from torch) (2024.10.0)\n",
            "Collecting nvidia-cuda-nvrtc-cu12==12.4.127 (from torch)\n",
            "  Downloading nvidia_cuda_nvrtc_cu12-12.4.127-py3-none-manylinux2014_x86_64.whl.metadata (1.5 kB)\n",
            "Collecting nvidia-cuda-runtime-cu12==12.4.127 (from torch)\n",
            "  Downloading nvidia_cuda_runtime_cu12-12.4.127-py3-none-manylinux2014_x86_64.whl.metadata (1.5 kB)\n",
            "Collecting nvidia-cuda-cupti-cu12==12.4.127 (from torch)\n",
            "  Downloading nvidia_cuda_cupti_cu12-12.4.127-py3-none-manylinux2014_x86_64.whl.metadata (1.6 kB)\n",
            "Collecting nvidia-cudnn-cu12==9.1.0.70 (from torch)\n",
            "  Downloading nvidia_cudnn_cu12-9.1.0.70-py3-none-manylinux2014_x86_64.whl.metadata (1.6 kB)\n",
            "Collecting nvidia-cublas-cu12==12.4.5.8 (from torch)\n",
            "  Downloading nvidia_cublas_cu12-12.4.5.8-py3-none-manylinux2014_x86_64.whl.metadata (1.5 kB)\n",
            "Collecting nvidia-cufft-cu12==11.2.1.3 (from torch)\n",
            "  Downloading nvidia_cufft_cu12-11.2.1.3-py3-none-manylinux2014_x86_64.whl.metadata (1.5 kB)\n",
            "Collecting nvidia-curand-cu12==10.3.5.147 (from torch)\n",
            "  Downloading nvidia_curand_cu12-10.3.5.147-py3-none-manylinux2014_x86_64.whl.metadata (1.5 kB)\n",
            "Collecting nvidia-cusolver-cu12==11.6.1.9 (from torch)\n",
            "  Downloading nvidia_cusolver_cu12-11.6.1.9-py3-none-manylinux2014_x86_64.whl.metadata (1.6 kB)\n",
            "Collecting nvidia-cusparse-cu12==12.3.1.170 (from torch)\n",
            "  Downloading nvidia_cusparse_cu12-12.3.1.170-py3-none-manylinux2014_x86_64.whl.metadata (1.6 kB)\n",
            "Requirement already satisfied: nvidia-nccl-cu12==2.21.5 in /usr/local/lib/python3.11/dist-packages (from torch) (2.21.5)\n",
            "Requirement already satisfied: nvidia-nvtx-cu12==12.4.127 in /usr/local/lib/python3.11/dist-packages (from torch) (12.4.127)\n",
            "Collecting nvidia-nvjitlink-cu12==12.4.127 (from torch)\n",
            "  Downloading nvidia_nvjitlink_cu12-12.4.127-py3-none-manylinux2014_x86_64.whl.metadata (1.5 kB)\n",
            "Requirement already satisfied: triton==3.1.0 in /usr/local/lib/python3.11/dist-packages (from torch) (3.1.0)\n",
            "Requirement already satisfied: sympy==1.13.1 in /usr/local/lib/python3.11/dist-packages (from torch) (1.13.1)\n",
            "Requirement already satisfied: mpmath<1.4,>=1.1.0 in /usr/local/lib/python3.11/dist-packages (from sympy==1.13.1->torch) (1.3.0)\n",
            "Requirement already satisfied: numpy in /usr/local/lib/python3.11/dist-packages (from torchvision) (1.26.4)\n",
            "Requirement already satisfied: pillow!=8.3.*,>=5.3.0 in /usr/local/lib/python3.11/dist-packages (from torchvision) (11.1.0)\n",
            "Requirement already satisfied: contourpy>=1.0.1 in /usr/local/lib/python3.11/dist-packages (from matplotlib) (1.3.1)\n",
            "Requirement already satisfied: cycler>=0.10 in /usr/local/lib/python3.11/dist-packages (from matplotlib) (0.12.1)\n",
            "Requirement already satisfied: fonttools>=4.22.0 in /usr/local/lib/python3.11/dist-packages (from matplotlib) (4.55.7)\n",
            "Requirement already satisfied: kiwisolver>=1.3.1 in /usr/local/lib/python3.11/dist-packages (from matplotlib) (1.4.8)\n",
            "Requirement already satisfied: packaging>=20.0 in /usr/local/lib/python3.11/dist-packages (from matplotlib) (24.2)\n",
            "Requirement already satisfied: pyparsing>=2.3.1 in /usr/local/lib/python3.11/dist-packages (from matplotlib) (3.2.1)\n",
            "Requirement already satisfied: python-dateutil>=2.7 in /usr/local/lib/python3.11/dist-packages (from matplotlib) (2.8.2)\n",
            "Requirement already satisfied: requests in /usr/local/lib/python3.11/dist-packages (from kagglehub) (2.32.3)\n",
            "Requirement already satisfied: tqdm in /usr/local/lib/python3.11/dist-packages (from kagglehub) (4.67.1)\n",
            "Requirement already satisfied: six>=1.5 in /usr/local/lib/python3.11/dist-packages (from python-dateutil>=2.7->matplotlib) (1.17.0)\n",
            "Requirement already satisfied: MarkupSafe>=2.0 in /usr/local/lib/python3.11/dist-packages (from jinja2->torch) (3.0.2)\n",
            "Requirement already satisfied: charset-normalizer<4,>=2 in /usr/local/lib/python3.11/dist-packages (from requests->kagglehub) (3.4.1)\n",
            "Requirement already satisfied: idna<4,>=2.5 in /usr/local/lib/python3.11/dist-packages (from requests->kagglehub) (3.10)\n",
            "Requirement already satisfied: urllib3<3,>=1.21.1 in /usr/local/lib/python3.11/dist-packages (from requests->kagglehub) (2.3.0)\n",
            "Requirement already satisfied: certifi>=2017.4.17 in /usr/local/lib/python3.11/dist-packages (from requests->kagglehub) (2024.12.14)\n",
            "Downloading nvidia_cublas_cu12-12.4.5.8-py3-none-manylinux2014_x86_64.whl (363.4 MB)\n",
            "\u001b[2K   \u001b[90m━━━━━━━━━━━━━━━━━━━━━━━━━━━━━━━━━━━━━━━━\u001b[0m \u001b[32m363.4/363.4 MB\u001b[0m \u001b[31m4.0 MB/s\u001b[0m eta \u001b[36m0:00:00\u001b[0m\n",
            "\u001b[?25hDownloading nvidia_cuda_cupti_cu12-12.4.127-py3-none-manylinux2014_x86_64.whl (13.8 MB)\n",
            "\u001b[2K   \u001b[90m━━━━━━━━━━━━━━━━━━━━━━━━━━━━━━━━━━━━━━━━\u001b[0m \u001b[32m13.8/13.8 MB\u001b[0m \u001b[31m79.2 MB/s\u001b[0m eta \u001b[36m0:00:00\u001b[0m\n",
            "\u001b[?25hDownloading nvidia_cuda_nvrtc_cu12-12.4.127-py3-none-manylinux2014_x86_64.whl (24.6 MB)\n",
            "\u001b[2K   \u001b[90m━━━━━━━━━━━━━━━━━━━━━━━━━━━━━━━━━━━━━━━━\u001b[0m \u001b[32m24.6/24.6 MB\u001b[0m \u001b[31m27.9 MB/s\u001b[0m eta \u001b[36m0:00:00\u001b[0m\n",
            "\u001b[?25hDownloading nvidia_cuda_runtime_cu12-12.4.127-py3-none-manylinux2014_x86_64.whl (883 kB)\n",
            "\u001b[2K   \u001b[90m━━━━━━━━━━━━━━━━━━━━━━━━━━━━━━━━━━━━━━━━\u001b[0m \u001b[32m883.7/883.7 kB\u001b[0m \u001b[31m59.2 MB/s\u001b[0m eta \u001b[36m0:00:00\u001b[0m\n",
            "\u001b[?25hDownloading nvidia_cudnn_cu12-9.1.0.70-py3-none-manylinux2014_x86_64.whl (664.8 MB)\n",
            "\u001b[2K   \u001b[90m━━━━━━━━━━━━━━━━━━━━━━━━━━━━━━━━━━━━━━━━\u001b[0m \u001b[32m664.8/664.8 MB\u001b[0m \u001b[31m2.8 MB/s\u001b[0m eta \u001b[36m0:00:00\u001b[0m\n",
            "\u001b[?25hDownloading nvidia_cufft_cu12-11.2.1.3-py3-none-manylinux2014_x86_64.whl (211.5 MB)\n",
            "\u001b[2K   \u001b[90m━━━━━━━━━━━━━━━━━━━━━━━━━━━━━━━━━━━━━━━━\u001b[0m \u001b[32m211.5/211.5 MB\u001b[0m \u001b[31m5.5 MB/s\u001b[0m eta \u001b[36m0:00:00\u001b[0m\n",
            "\u001b[?25hDownloading nvidia_curand_cu12-10.3.5.147-py3-none-manylinux2014_x86_64.whl (56.3 MB)\n",
            "\u001b[2K   \u001b[90m━━━━━━━━━━━━━━━━━━━━━━━━━━━━━━━━━━━━━━━━\u001b[0m \u001b[32m56.3/56.3 MB\u001b[0m \u001b[31m12.8 MB/s\u001b[0m eta \u001b[36m0:00:00\u001b[0m\n",
            "\u001b[?25hDownloading nvidia_cusolver_cu12-11.6.1.9-py3-none-manylinux2014_x86_64.whl (127.9 MB)\n",
            "\u001b[2K   \u001b[90m━━━━━━━━━━━━━━━━━━━━━━━━━━━━━━━━━━━━━━━━\u001b[0m \u001b[32m127.9/127.9 MB\u001b[0m \u001b[31m8.2 MB/s\u001b[0m eta \u001b[36m0:00:00\u001b[0m\n",
            "\u001b[?25hDownloading nvidia_cusparse_cu12-12.3.1.170-py3-none-manylinux2014_x86_64.whl (207.5 MB)\n",
            "\u001b[2K   \u001b[90m━━━━━━━━━━━━━━━━━━━━━━━━━━━━━━━━━━━━━━━━\u001b[0m \u001b[32m207.5/207.5 MB\u001b[0m \u001b[31m5.6 MB/s\u001b[0m eta \u001b[36m0:00:00\u001b[0m\n",
            "\u001b[?25hDownloading nvidia_nvjitlink_cu12-12.4.127-py3-none-manylinux2014_x86_64.whl (21.1 MB)\n",
            "\u001b[2K   \u001b[90m━━━━━━━━━━━━━━━━━━━━━━━━━━━━━━━━━━━━━━━━\u001b[0m \u001b[32m21.1/21.1 MB\u001b[0m \u001b[31m93.3 MB/s\u001b[0m eta \u001b[36m0:00:00\u001b[0m\n",
            "\u001b[?25hInstalling collected packages: nvidia-nvjitlink-cu12, nvidia-curand-cu12, nvidia-cufft-cu12, nvidia-cuda-runtime-cu12, nvidia-cuda-nvrtc-cu12, nvidia-cuda-cupti-cu12, nvidia-cublas-cu12, nvidia-cusparse-cu12, nvidia-cudnn-cu12, nvidia-cusolver-cu12\n",
            "  Attempting uninstall: nvidia-nvjitlink-cu12\n",
            "    Found existing installation: nvidia-nvjitlink-cu12 12.5.82\n",
            "    Uninstalling nvidia-nvjitlink-cu12-12.5.82:\n",
            "      Successfully uninstalled nvidia-nvjitlink-cu12-12.5.82\n",
            "  Attempting uninstall: nvidia-curand-cu12\n",
            "    Found existing installation: nvidia-curand-cu12 10.3.6.82\n",
            "    Uninstalling nvidia-curand-cu12-10.3.6.82:\n",
            "      Successfully uninstalled nvidia-curand-cu12-10.3.6.82\n",
            "  Attempting uninstall: nvidia-cufft-cu12\n",
            "    Found existing installation: nvidia-cufft-cu12 11.2.3.61\n",
            "    Uninstalling nvidia-cufft-cu12-11.2.3.61:\n",
            "      Successfully uninstalled nvidia-cufft-cu12-11.2.3.61\n",
            "  Attempting uninstall: nvidia-cuda-runtime-cu12\n",
            "    Found existing installation: nvidia-cuda-runtime-cu12 12.5.82\n",
            "    Uninstalling nvidia-cuda-runtime-cu12-12.5.82:\n",
            "      Successfully uninstalled nvidia-cuda-runtime-cu12-12.5.82\n",
            "  Attempting uninstall: nvidia-cuda-nvrtc-cu12\n",
            "    Found existing installation: nvidia-cuda-nvrtc-cu12 12.5.82\n",
            "    Uninstalling nvidia-cuda-nvrtc-cu12-12.5.82:\n",
            "      Successfully uninstalled nvidia-cuda-nvrtc-cu12-12.5.82\n",
            "  Attempting uninstall: nvidia-cuda-cupti-cu12\n",
            "    Found existing installation: nvidia-cuda-cupti-cu12 12.5.82\n",
            "    Uninstalling nvidia-cuda-cupti-cu12-12.5.82:\n",
            "      Successfully uninstalled nvidia-cuda-cupti-cu12-12.5.82\n",
            "  Attempting uninstall: nvidia-cublas-cu12\n",
            "    Found existing installation: nvidia-cublas-cu12 12.5.3.2\n",
            "    Uninstalling nvidia-cublas-cu12-12.5.3.2:\n",
            "      Successfully uninstalled nvidia-cublas-cu12-12.5.3.2\n",
            "  Attempting uninstall: nvidia-cusparse-cu12\n",
            "    Found existing installation: nvidia-cusparse-cu12 12.5.1.3\n",
            "    Uninstalling nvidia-cusparse-cu12-12.5.1.3:\n",
            "      Successfully uninstalled nvidia-cusparse-cu12-12.5.1.3\n",
            "  Attempting uninstall: nvidia-cudnn-cu12\n",
            "    Found existing installation: nvidia-cudnn-cu12 9.3.0.75\n",
            "    Uninstalling nvidia-cudnn-cu12-9.3.0.75:\n",
            "      Successfully uninstalled nvidia-cudnn-cu12-9.3.0.75\n",
            "  Attempting uninstall: nvidia-cusolver-cu12\n",
            "    Found existing installation: nvidia-cusolver-cu12 11.6.3.83\n",
            "    Uninstalling nvidia-cusolver-cu12-11.6.3.83:\n",
            "      Successfully uninstalled nvidia-cusolver-cu12-11.6.3.83\n",
            "Successfully installed nvidia-cublas-cu12-12.4.5.8 nvidia-cuda-cupti-cu12-12.4.127 nvidia-cuda-nvrtc-cu12-12.4.127 nvidia-cuda-runtime-cu12-12.4.127 nvidia-cudnn-cu12-9.1.0.70 nvidia-cufft-cu12-11.2.1.3 nvidia-curand-cu12-10.3.5.147 nvidia-cusolver-cu12-11.6.1.9 nvidia-cusparse-cu12-12.3.1.170 nvidia-nvjitlink-cu12-12.4.127\n",
            "Warning: Looks like you're using an outdated `kagglehub` version (installed: 0.3.6), please consider upgrading to the latest version (0.3.7).\n",
            "Downloading from https://www.kaggle.com/api/v1/datasets/download/zalando-research/fashionmnist?dataset_version_number=4...\n"
          ]
        },
        {
          "metadata": {
            "tags": null
          },
          "name": "stderr",
          "output_type": "stream",
          "text": [
            "100%|██████████| 68.8M/68.8M [00:00<00:00, 147MB/s]"
          ]
        },
        {
          "metadata": {
            "tags": null
          },
          "name": "stdout",
          "output_type": "stream",
          "text": [
            "Extracting files...\n"
          ]
        },
        {
          "metadata": {
            "tags": null
          },
          "name": "stderr",
          "output_type": "stream",
          "text": [
            "\n"
          ]
        },
        {
          "metadata": {
            "tags": null
          },
          "name": "stdout",
          "output_type": "stream",
          "text": [
            "Downloading http://fashion-mnist.s3-website.eu-central-1.amazonaws.com/train-images-idx3-ubyte.gz\n",
            "Downloading http://fashion-mnist.s3-website.eu-central-1.amazonaws.com/train-images-idx3-ubyte.gz to ./data/FashionMNIST/raw/train-images-idx3-ubyte.gz\n"
          ]
        },
        {
          "metadata": {
            "tags": null
          },
          "name": "stderr",
          "output_type": "stream",
          "text": [
            "100%|██████████| 26.4M/26.4M [00:02<00:00, 12.7MB/s]\n"
          ]
        },
        {
          "metadata": {
            "tags": null
          },
          "name": "stdout",
          "output_type": "stream",
          "text": [
            "Extracting ./data/FashionMNIST/raw/train-images-idx3-ubyte.gz to ./data/FashionMNIST/raw\n",
            "\n",
            "Downloading http://fashion-mnist.s3-website.eu-central-1.amazonaws.com/train-labels-idx1-ubyte.gz\n",
            "Downloading http://fashion-mnist.s3-website.eu-central-1.amazonaws.com/train-labels-idx1-ubyte.gz to ./data/FashionMNIST/raw/train-labels-idx1-ubyte.gz\n"
          ]
        },
        {
          "metadata": {
            "tags": null
          },
          "name": "stderr",
          "output_type": "stream",
          "text": [
            "100%|██████████| 29.5k/29.5k [00:00<00:00, 200kB/s]\n"
          ]
        },
        {
          "metadata": {
            "tags": null
          },
          "name": "stdout",
          "output_type": "stream",
          "text": [
            "Extracting ./data/FashionMNIST/raw/train-labels-idx1-ubyte.gz to ./data/FashionMNIST/raw\n",
            "\n",
            "Downloading http://fashion-mnist.s3-website.eu-central-1.amazonaws.com/t10k-images-idx3-ubyte.gz\n",
            "Downloading http://fashion-mnist.s3-website.eu-central-1.amazonaws.com/t10k-images-idx3-ubyte.gz to ./data/FashionMNIST/raw/t10k-images-idx3-ubyte.gz\n"
          ]
        },
        {
          "metadata": {
            "tags": null
          },
          "name": "stderr",
          "output_type": "stream",
          "text": [
            "100%|██████████| 4.42M/4.42M [00:01<00:00, 3.75MB/s]\n"
          ]
        },
        {
          "metadata": {
            "tags": null
          },
          "name": "stdout",
          "output_type": "stream",
          "text": [
            "Extracting ./data/FashionMNIST/raw/t10k-images-idx3-ubyte.gz to ./data/FashionMNIST/raw\n",
            "\n",
            "Downloading http://fashion-mnist.s3-website.eu-central-1.amazonaws.com/t10k-labels-idx1-ubyte.gz\n",
            "Downloading http://fashion-mnist.s3-website.eu-central-1.amazonaws.com/t10k-labels-idx1-ubyte.gz to ./data/FashionMNIST/raw/t10k-labels-idx1-ubyte.gz\n"
          ]
        },
        {
          "metadata": {
            "tags": null
          },
          "name": "stderr",
          "output_type": "stream",
          "text": [
            "100%|██████████| 5.15k/5.15k [00:00<00:00, 6.24MB/s]\n"
          ]
        },
        {
          "metadata": {
            "tags": null
          },
          "name": "stdout",
          "output_type": "stream",
          "text": [
            "Extracting ./data/FashionMNIST/raw/t10k-labels-idx1-ubyte.gz to ./data/FashionMNIST/raw\n",
            "\n",
            "Training data shape: (60000, 28, 28)\n",
            "Test data shape: torch.Size([10000, 28, 28])\n"
          ]
        },
        {
          "data": {
            "image/png": "[encoded data removed]",
            "text/plain": [
              "<Figure size 1000x1000 with 9 Axes>"
            ]
          },
          "metadata": {},
          "output_type": "display_data"
        },
        {
          "output_type": "stream",
          "name": "stdout",
          "text": [
            "\n",
            "Epoch 1/10\n",
            "--------------------\n",
            "  Batch 100/938: Loss: 1.2123 | Accuracy: 56.52%\n",
            "  Batch 200/938: Loss: 0.9722 | Accuracy: 64.67%\n",
            "  Batch 300/938: Loss: 0.8625 | Accuracy: 68.19%\n",
            "  Batch 400/938: Loss: 0.7918 | Accuracy: 70.72%\n",
            "  Batch 500/938: Loss: 0.7456 | Accuracy: 72.39%\n",
            "  Batch 600/938: Loss: 0.7141 | Accuracy: 73.55%\n",
            "  Batch 700/938: Loss: 0.6877 | Accuracy: 74.58%\n",
            "  Batch 800/938: Loss: 0.6639 | Accuracy: 75.55%\n",
            "  Batch 900/938: Loss: 0.6431 | Accuracy: 76.38%\n",
            "\n",
            "Epoch 1 Summary:\n",
            "  Training Loss: 0.6377 | Training Accuracy: 76.60%\n",
            "  Validation Loss: 0.4148 | Validation Accuracy: 84.33%\n",
            "--------------------------------------------------\n",
            "\n",
            "Epoch 2/10\n",
            "--------------------\n",
            "  Batch 100/938: Loss: 0.4723 | Accuracy: 83.27%\n",
            "  Batch 200/938: Loss: 0.4612 | Accuracy: 83.23%\n",
            "  Batch 300/938: Loss: 0.4600 | Accuracy: 83.32%\n",
            "  Batch 400/938: Loss: 0.4544 | Accuracy: 83.56%\n",
            "  Batch 500/938: Loss: 0.4488 | Accuracy: 83.84%\n",
            "  Batch 600/938: Loss: 0.4442 | Accuracy: 83.98%\n",
            "  Batch 700/938: Loss: 0.4394 | Accuracy: 84.18%\n",
            "  Batch 800/938: Loss: 0.4363 | Accuracy: 84.35%\n",
            "  Batch 900/938: Loss: 0.4322 | Accuracy: 84.51%\n",
            "\n",
            "Epoch 2 Summary:\n",
            "  Training Loss: 0.4315 | Training Accuracy: 84.53%\n",
            "  Validation Loss: 0.3593 | Validation Accuracy: 86.69%\n",
            "--------------------------------------------------\n",
            "\n",
            "Epoch 3/10\n",
            "--------------------\n",
            "  Batch 100/938: Loss: 0.4018 | Accuracy: 85.06%\n",
            "  Batch 200/938: Loss: 0.3997 | Accuracy: 85.53%\n",
            "  Batch 300/938: Loss: 0.3942 | Accuracy: 85.98%\n",
            "  Batch 400/938: Loss: 0.3855 | Accuracy: 86.20%\n",
            "  Batch 500/938: Loss: 0.3833 | Accuracy: 86.27%\n",
            "  Batch 600/938: Loss: 0.3788 | Accuracy: 86.55%\n",
            "  Batch 700/938: Loss: 0.3758 | Accuracy: 86.70%\n",
            "  Batch 800/938: Loss: 0.3756 | Accuracy: 86.71%\n",
            "  Batch 900/938: Loss: 0.3749 | Accuracy: 86.73%\n",
            "\n",
            "Epoch 3 Summary:\n",
            "  Training Loss: 0.3754 | Training Accuracy: 86.69%\n",
            "  Validation Loss: 0.3225 | Validation Accuracy: 88.38%\n",
            "--------------------------------------------------\n",
            "\n",
            "Epoch 4/10\n",
            "--------------------\n",
            "  Batch 100/938: Loss: 0.3584 | Accuracy: 87.03%\n",
            "  Batch 200/938: Loss: 0.3487 | Accuracy: 87.36%\n",
            "  Batch 300/938: Loss: 0.3457 | Accuracy: 87.54%\n",
            "  Batch 400/938: Loss: 0.3484 | Accuracy: 87.39%\n",
            "  Batch 500/938: Loss: 0.3441 | Accuracy: 87.62%\n",
            "  Batch 600/938: Loss: 0.3411 | Accuracy: 87.71%\n",
            "  Batch 700/938: Loss: 0.3384 | Accuracy: 87.84%\n",
            "  Batch 800/938: Loss: 0.3390 | Accuracy: 87.75%\n",
            "  Batch 900/938: Loss: 0.3383 | Accuracy: 87.83%\n",
            "\n",
            "Epoch 4 Summary:\n",
            "  Training Loss: 0.3385 | Training Accuracy: 87.83%\n",
            "  Validation Loss: 0.3133 | Validation Accuracy: 88.98%\n",
            "--------------------------------------------------\n",
            "\n",
            "Epoch 5/10\n",
            "--------------------\n",
            "  Batch 100/938: Loss: 0.3211 | Accuracy: 88.70%\n",
            "  Batch 200/938: Loss: 0.3261 | Accuracy: 88.41%\n",
            "  Batch 300/938: Loss: 0.3281 | Accuracy: 88.35%\n",
            "  Batch 400/938: Loss: 0.3231 | Accuracy: 88.57%\n",
            "  Batch 500/938: Loss: 0.3210 | Accuracy: 88.59%\n",
            "  Batch 600/938: Loss: 0.3188 | Accuracy: 88.66%\n",
            "  Batch 700/938: Loss: 0.3168 | Accuracy: 88.71%\n",
            "  Batch 800/938: Loss: 0.3165 | Accuracy: 88.69%\n",
            "  Batch 900/938: Loss: 0.3158 | Accuracy: 88.77%\n",
            "\n",
            "Epoch 5 Summary:\n",
            "  Training Loss: 0.3148 | Training Accuracy: 88.77%\n",
            "  Validation Loss: 0.3008 | Validation Accuracy: 88.96%\n",
            "--------------------------------------------------\n",
            "\n",
            "Epoch 6/10\n",
            "--------------------\n",
            "  Batch 100/938: Loss: 0.3008 | Accuracy: 88.66%\n",
            "  Batch 200/938: Loss: 0.2922 | Accuracy: 89.05%\n",
            "  Batch 300/938: Loss: 0.2965 | Accuracy: 89.06%\n",
            "  Batch 400/938: Loss: 0.2949 | Accuracy: 89.25%\n",
            "  Batch 500/938: Loss: 0.2923 | Accuracy: 89.42%\n",
            "  Batch 600/938: Loss: 0.2930 | Accuracy: 89.40%\n",
            "  Batch 700/938: Loss: 0.2932 | Accuracy: 89.37%\n",
            "  Batch 800/938: Loss: 0.2922 | Accuracy: 89.44%\n",
            "  Batch 900/938: Loss: 0.2939 | Accuracy: 89.41%\n",
            "\n",
            "Epoch 6 Summary:\n",
            "  Training Loss: 0.2940 | Training Accuracy: 89.39%\n",
            "  Validation Loss: 0.2754 | Validation Accuracy: 90.08%\n",
            "--------------------------------------------------\n",
            "\n",
            "Epoch 7/10\n",
            "--------------------\n",
            "  Batch 100/938: Loss: 0.2828 | Accuracy: 89.94%\n",
            "  Batch 200/938: Loss: 0.2742 | Accuracy: 90.22%\n",
            "  Batch 300/938: Loss: 0.2734 | Accuracy: 90.18%\n",
            "  Batch 400/938: Loss: 0.2758 | Accuracy: 90.11%\n",
            "  Batch 500/938: Loss: 0.2796 | Accuracy: 89.94%\n",
            "  Batch 600/938: Loss: 0.2781 | Accuracy: 89.90%\n",
            "  Batch 700/938: Loss: 0.2765 | Accuracy: 89.93%\n",
            "  Batch 800/938: Loss: 0.2772 | Accuracy: 89.92%\n",
            "  Batch 900/938: Loss: 0.2763 | Accuracy: 89.99%\n",
            "\n",
            "Epoch 7 Summary:\n",
            "  Training Loss: 0.2757 | Training Accuracy: 90.04%\n",
            "  Validation Loss: 0.2709 | Validation Accuracy: 90.22%\n",
            "--------------------------------------------------\n",
            "\n",
            "Epoch 8/10\n",
            "--------------------\n",
            "  Batch 100/938: Loss: 0.2639 | Accuracy: 90.55%\n",
            "  Batch 200/938: Loss: 0.2643 | Accuracy: 90.52%\n",
            "  Batch 300/938: Loss: 0.2669 | Accuracy: 90.56%\n",
            "  Batch 400/938: Loss: 0.2685 | Accuracy: 90.39%\n",
            "  Batch 500/938: Loss: 0.2680 | Accuracy: 90.29%\n",
            "  Batch 600/938: Loss: 0.2662 | Accuracy: 90.33%\n",
            "  Batch 700/938: Loss: 0.2648 | Accuracy: 90.45%\n",
            "  Batch 800/938: Loss: 0.2656 | Accuracy: 90.44%\n",
            "  Batch 900/938: Loss: 0.2642 | Accuracy: 90.44%\n",
            "\n",
            "Epoch 8 Summary:\n",
            "  Training Loss: 0.2640 | Training Accuracy: 90.45%\n",
            "  Validation Loss: 0.2648 | Validation Accuracy: 90.12%\n",
            "--------------------------------------------------\n",
            "\n",
            "Epoch 9/10\n",
            "--------------------\n",
            "  Batch 100/938: Loss: 0.2508 | Accuracy: 90.98%\n",
            "  Batch 200/938: Loss: 0.2520 | Accuracy: 90.73%\n",
            "  Batch 300/938: Loss: 0.2471 | Accuracy: 90.93%\n",
            "  Batch 400/938: Loss: 0.2505 | Accuracy: 90.84%\n",
            "  Batch 500/938: Loss: 0.2494 | Accuracy: 90.88%\n",
            "  Batch 600/938: Loss: 0.2499 | Accuracy: 90.86%\n",
            "  Batch 700/938: Loss: 0.2505 | Accuracy: 90.85%\n",
            "  Batch 800/938: Loss: 0.2490 | Accuracy: 90.97%\n",
            "  Batch 900/938: Loss: 0.2507 | Accuracy: 90.91%\n",
            "\n",
            "Epoch 9 Summary:\n",
            "  Training Loss: 0.2505 | Training Accuracy: 90.89%\n",
            "  Validation Loss: 0.2650 | Validation Accuracy: 90.35%\n",
            "--------------------------------------------------\n",
            "\n",
            "Epoch 10/10\n",
            "--------------------\n",
            "  Batch 100/938: Loss: 0.2372 | Accuracy: 90.98%\n",
            "  Batch 200/938: Loss: 0.2329 | Accuracy: 91.40%\n",
            "  Batch 300/938: Loss: 0.2370 | Accuracy: 91.44%\n",
            "  Batch 400/938: Loss: 0.2382 | Accuracy: 91.33%\n",
            "  Batch 500/938: Loss: 0.2383 | Accuracy: 91.37%\n",
            "  Batch 600/938: Loss: 0.2390 | Accuracy: 91.36%\n",
            "  Batch 700/938: Loss: 0.2379 | Accuracy: 91.37%\n",
            "  Batch 800/938: Loss: 0.2388 | Accuracy: 91.28%\n",
            "  Batch 900/938: Loss: 0.2386 | Accuracy: 91.29%\n",
            "\n",
            "Epoch 10 Summary:\n",
            "  Training Loss: 0.2379 | Training Accuracy: 91.34%\n",
            "  Validation Loss: 0.2542 | Validation Accuracy: 90.71%\n",
            "--------------------------------------------------\n",
            "\n",
            "Final Test Results:\n",
            "--------------------------------------------------\n",
            "Test Accuracy: 90.71%\n",
            "\n",
            "Model saved successfully!\n"
          ]
        }
      ]
    },
    {
      "cell_type": "code",
      "source": [
        "ls"
      ],
      "metadata": {
        "colab": {
          "base_uri": "https://localhost:8080/"
        },
        "id": "0oAzc9DMbWz_",
        "outputId": "5bf8fb8c-3cfd-4d28-9693-b6b15bca18c3"
      },
      "execution_count": null,
      "outputs": [
        {
          "output_type": "stream",
          "name": "stdout",
          "text": [
            "\u001b[0m\u001b[01;34mdata\u001b[0m/                  fashion-mnist_test.csv   t10k-labels-idx1-ubyte\n",
            "fashion_mnist_cnn.h5   fashion-mnist_train.csv  train-images-idx3-ubyte\n",
            "fashion_mnist_cnn.pth  t10k-images-idx3-ubyte   train-labels-idx1-ubyte\n"
          ]
        }
      ]
    },
    {
      "cell_type": "code",
      "source": [
        "from google.colab import files\n",
        "files.download(\"fashion_mnist_cnn.pth\")"
      ],
      "metadata": {
        "colab": {
          "base_uri": "https://localhost:8080/",
          "height": 17
        },
        "id": "hKPq1dIlbh9a",
        "outputId": "0b03505f-a757-4cfa-f1fc-f86511b73a59"
      },
      "execution_count": null,
      "outputs": [
        {
          "output_type": "display_data",
          "data": {
            "text/plain": [
              "<IPython.core.display.Javascript object>"
            ],
            "application/javascript": [
              "\n",
              "    async function download(id, filename, size) {\n",
              "      if (!google.colab.kernel.accessAllowed) {\n",
              "        return;\n",
              "      }\n",
              "      const div = document.createElement('div');\n",
              "      const label = document.createElement('label');\n",
              "      label.textContent = `Downloading \"${filename}\": `;\n",
              "      div.appendChild(label);\n",
              "      const progress = document.createElement('progress');\n",
              "      progress.max = size;\n",
              "      div.appendChild(progress);\n",
              "      document.body.appendChild(div);\n",
              "\n",
              "      const buffers = [];\n",
              "      let downloaded = 0;\n",
              "\n",
              "      const channel = await google.colab.kernel.comms.open(id);\n",
              "      // Send a message to notify the kernel that we're ready.\n",
              "      channel.send({})\n",
              "\n",
              "      for await (const message of channel.messages) {\n",
              "        // Send a message to notify the kernel that we're ready.\n",
              "        channel.send({})\n",
              "        if (message.buffers) {\n",
              "          for (const buffer of message.buffers) {\n",
              "            buffers.push(buffer);\n",
              "            downloaded += buffer.byteLength;\n",
              "            progress.value = downloaded;\n",
              "          }\n",
              "        }\n",
              "      }\n",
              "      const blob = new Blob(buffers, {type: 'application/binary'});\n",
              "      const a = document.createElement('a');\n",
              "      a.href = window.URL.createObjectURL(blob);\n",
              "      a.download = filename;\n",
              "      div.appendChild(a);\n",
              "      a.click();\n",
              "      div.remove();\n",
              "    }\n",
              "  "
            ]
          },
          "metadata": {}
        },
        {
          "output_type": "display_data",
          "data": {
            "text/plain": [
              "<IPython.core.display.Javascript object>"
            ],
            "application/javascript": [
              "download(\"download_6fc077ff-289b-4eda-ab8f-4d80340fc264\", \"fashion_mnist_cnn.pth\", 903608)"
            ]
          },
          "metadata": {}
        }
      ]
    },
    {
      "cell_type": "code",
      "source": [
        "# Install required libraries\n",
        "!pip install torch torchvision matplotlib kagglehub numpy"
      ],
      "metadata": {
        "id": "ESvBo1KOsoio"
      },
      "execution_count": null,
      "outputs": []
    },
    {
      "cell_type": "code",
      "source": [
        "import numpy as np\n",
        "import matplotlib.pyplot as plt\n",
        "import torch\n",
        "from torch import nn, optim\n",
        "from torch.utils.data import DataLoader, TensorDataset\n",
        "from torchvision import datasets, transforms\n",
        "import kagglehub\n",
        "\n",
        "# Download Fashion-MNIST dataset\n",
        "path = kagglehub.dataset_download(\"zalando-research/fashionmnist\")\n",
        "\n",
        "# Load dataset using PyTorch\n",
        "transform = transforms.Compose([transforms.ToTensor()])\n",
        "train_data = datasets.FashionMNIST(root='./data', train=True, download=True, transform=transform)\n",
        "test_data = datasets.FashionMNIST(root='./data', train=False, download=True, transform=transform)\n",
        "\n",
        "class_names = ['T-shirt/top', 'Trouser', 'Pullover', 'Dress', 'Coat',\n",
        "               'Sandal', 'Shirt', 'Sneaker', 'Bag', 'Ankle boot']\n",
        "\n",
        "# Convert to numpy arrays for visualization\n",
        "train_images = train_data.data.numpy()\n",
        "train_labels = train_data.targets.numpy()\n",
        "\n",
        "# Explore dataset\n",
        "print(f\"Training data shape: {train_images.shape}\")  # (60000, 28, 28)\n",
        "print(f\"Test data shape: {test_data.data.shape}\")    # (10000, 28, 28)\n",
        "\n",
        "# Plot sample images\n",
        "plt.figure(figsize=(10,10))\n",
        "for i in range(9):\n",
        "    plt.subplot(3,3,i+1)\n",
        "    plt.imshow(train_images[i], cmap='gray')\n",
        "    plt.title(class_names[train_labels[i]])\n",
        "plt.show()\n",
        "\n",
        "# Create DataLoaders\n",
        "train_loader = DataLoader(train_data, batch_size=64, shuffle=True)\n",
        "test_loader = DataLoader(test_data, batch_size=64)\n",
        "\n",
        "# Define CNN model\n",
        "class CNN(nn.Module):\n",
        "    def __init__(self):\n",
        "        super().__init__()\n",
        "        self.network = nn.Sequential(\n",
        "            nn.Conv2d(1, 32, kernel_size=3),    # (32, 26, 26)\n",
        "            nn.ReLU(),\n",
        "            nn.MaxPool2d(2),                   # (32, 13, 13)\n",
        "            nn.Conv2d(32, 64, kernel_size=3),  # (64, 11, 11)\n",
        "            nn.ReLU(),\n",
        "            nn.MaxPool2d(2),                   # (64, 5, 5)\n",
        "            nn.Flatten(),\n",
        "            nn.Linear(64*5*5, 128),\n",
        "            nn.ReLU(),\n",
        "            nn.Dropout(0.5),\n",
        "            nn.Linear(128, 10)\n",
        "        )\n",
        "\n",
        "    def forward(self, x):\n",
        "        return self.network(x)\n",
        "\n",
        "# Initialize model, loss function, and optimizer\n",
        "device = torch.device('cuda' if torch.cuda.is_available() else 'cpu')\n",
        "model = CNN().to(device)\n",
        "criterion = nn.CrossEntropyLoss()\n",
        "optimizer = optim.Adam(model.parameters())\n",
        "\n",
        "# Training loop with detailed logging\n",
        "epochs = 10\n",
        "train_losses = []  # Store training losses\n",
        "val_losses = []    # Store validation losses\n",
        "\n",
        "for epoch in range(epochs):\n",
        "    model.train()\n",
        "    running_loss = 0.0\n",
        "    correct = 0\n",
        "    total = 0\n",
        "\n",
        "    # Training phase\n",
        "    print(f\"\\nEpoch {epoch+1}/{epochs}\")\n",
        "    print(\"-\" * 20)\n",
        "\n",
        "    for batch_idx, (images, labels) in enumerate(train_loader):\n",
        "        images, labels = images.to(device), labels.to(device)\n",
        "\n",
        "        # Forward pass\n",
        "        outputs = model(images)\n",
        "        loss = criterion(outputs, labels)\n",
        "\n",
        "        # Backward pass\n",
        "        optimizer.zero_grad()\n",
        "        loss.backward()\n",
        "        optimizer.step()\n",
        "\n",
        "        # Statistics\n",
        "        running_loss += loss.item() * images.size(0)\n",
        "        _, predicted = torch.max(outputs.data, 1)\n",
        "        correct += (predicted == labels).sum().item()\n",
        "        total += labels.size(0)\n",
        "\n",
        "        # Print every 100 batches\n",
        "        if (batch_idx + 1) % 100 == 0:\n",
        "            current_loss = running_loss / total\n",
        "            current_acc = 100 * correct / total\n",
        "            print(f\"  Batch {batch_idx+1}/{len(train_loader)}: \"\n",
        "                  f\"Loss: {current_loss:.4f} | \"\n",
        "                  f\"Accuracy: {current_acc:.2f}%\")\n",
        "\n",
        "    # Store training loss\n",
        "    epoch_loss = running_loss / total\n",
        "    train_losses.append(epoch_loss)\n",
        "\n",
        "    # Epoch statistics\n",
        "    epoch_acc = 100 * correct / total\n",
        "    print(f\"\\nEpoch {epoch+1} Summary:\")\n",
        "    print(f\"  Training Loss: {epoch_loss:.4f} | \"\n",
        "          f\"Training Accuracy: {epoch_acc:.2f}%\")\n",
        "\n",
        "    # Validation phase\n",
        "    model.eval()\n",
        "    val_loss = 0.0\n",
        "    val_correct = 0\n",
        "    val_total = 0\n",
        "    with torch.no_grad():\n",
        "        for images, labels in test_loader:\n",
        "            images, labels = images.to(device), labels.to(device)\n",
        "            outputs = model(images)\n",
        "            loss = criterion(outputs, labels)\n",
        "\n",
        "            val_loss += loss.item() * images.size(0)\n",
        "            _, predicted = torch.max(outputs.data, 1)\n",
        "            val_correct += (predicted == labels).sum().item()\n",
        "            val_total += labels.size(0)\n",
        "\n",
        "    # Store validation loss\n",
        "    val_loss = val_loss / val_total\n",
        "    val_losses.append(val_loss)\n",
        "\n",
        "    val_acc = 100 * val_correct / val_total\n",
        "    print(f\"  Validation Loss: {val_loss:.4f} | \"\n",
        "          f\"Validation Accuracy: {val_acc:.2f}%\")\n",
        "    print(\"-\" * 50)\n",
        "\n",
        "# Generate loss chart after training\n",
        "plt.figure(figsize=(10, 6))\n",
        "plt.plot(range(1, epochs+1), train_losses, label='Training Loss')\n",
        "plt.plot(range(1, epochs+1), val_losses, label='Validation Loss')\n",
        "plt.title('Training and Validation Loss Curve')\n",
        "plt.xlabel('Epochs')\n",
        "plt.ylabel('Loss')\n",
        "plt.xticks(range(1, epochs+1))\n",
        "plt.legend()\n",
        "plt.grid(True)\n",
        "plt.show()\n",
        "\n",
        "# Final evaluation\n",
        "model.eval()\n",
        "final_correct = 0\n",
        "final_total = 0\n",
        "with torch.no_grad():\n",
        "    for images, labels in test_loader:\n",
        "        images, labels = images.to(device), labels.to(device)\n",
        "        outputs = model(images)\n",
        "        _, predicted = torch.max(outputs.data, 1)\n",
        "        final_total += labels.size(0)\n",
        "        final_correct += (predicted == labels).sum().item()\n",
        "\n",
        "print(\"\\nFinal Test Results:\")\n",
        "print(\"-\" * 50)\n",
        "print(f\"Test Accuracy: {100 * final_correct / final_total:.2f}%\")\n",
        "\n",
        "# Save model\n",
        "torch.save(model.state_dict(), 'fashion_mnist_cnn_v2.pth')\n",
        "print(\"\\nModel saved successfully!\")"
      ],
      "metadata": {
        "colab": {
          "base_uri": "https://localhost:8080/",
          "height": 1000
        },
        "id": "ePPPg-KfshyB",
        "outputId": "27606f38-2af9-4e68-81fb-78e73b1508c3"
      },
      "execution_count": 1,
      "outputs": [
        {
          "output_type": "stream",
          "name": "stdout",
          "text": [
            "Warning: Looks like you're using an outdated `kagglehub` version (installed: 0.3.6), please consider upgrading to the latest version (0.3.7).\n",
            "Downloading from https://www.kaggle.com/api/v1/datasets/download/zalando-research/fashionmnist?dataset_version_number=4...\n"
          ]
        },
        {
          "output_type": "stream",
          "name": "stderr",
          "text": [
            "100%|██████████| 68.8M/68.8M [00:02<00:00, 29.5MB/s]"
          ]
        },
        {
          "output_type": "stream",
          "name": "stdout",
          "text": [
            "Extracting files...\n"
          ]
        },
        {
          "output_type": "stream",
          "name": "stderr",
          "text": [
            "\n"
          ]
        },
        {
          "output_type": "stream",
          "name": "stdout",
          "text": [
            "Downloading http://fashion-mnist.s3-website.eu-central-1.amazonaws.com/train-images-idx3-ubyte.gz\n",
            "Downloading http://fashion-mnist.s3-website.eu-central-1.amazonaws.com/train-images-idx3-ubyte.gz to ./data/FashionMNIST/raw/train-images-idx3-ubyte.gz\n"
          ]
        },
        {
          "output_type": "stream",
          "name": "stderr",
          "text": [
            "100%|██████████| 26.4M/26.4M [00:00<00:00, 112MB/s]\n"
          ]
        },
        {
          "output_type": "stream",
          "name": "stdout",
          "text": [
            "Extracting ./data/FashionMNIST/raw/train-images-idx3-ubyte.gz to ./data/FashionMNIST/raw\n",
            "\n",
            "Downloading http://fashion-mnist.s3-website.eu-central-1.amazonaws.com/train-labels-idx1-ubyte.gz\n",
            "Downloading http://fashion-mnist.s3-website.eu-central-1.amazonaws.com/train-labels-idx1-ubyte.gz to ./data/FashionMNIST/raw/train-labels-idx1-ubyte.gz\n"
          ]
        },
        {
          "output_type": "stream",
          "name": "stderr",
          "text": [
            "100%|██████████| 29.5k/29.5k [00:00<00:00, 5.96MB/s]\n"
          ]
        },
        {
          "output_type": "stream",
          "name": "stdout",
          "text": [
            "Extracting ./data/FashionMNIST/raw/train-labels-idx1-ubyte.gz to ./data/FashionMNIST/raw\n",
            "\n",
            "Downloading http://fashion-mnist.s3-website.eu-central-1.amazonaws.com/t10k-images-idx3-ubyte.gz\n",
            "Downloading http://fashion-mnist.s3-website.eu-central-1.amazonaws.com/t10k-images-idx3-ubyte.gz to ./data/FashionMNIST/raw/t10k-images-idx3-ubyte.gz\n"
          ]
        },
        {
          "output_type": "stream",
          "name": "stderr",
          "text": [
            "100%|██████████| 4.42M/4.42M [00:00<00:00, 52.9MB/s]\n"
          ]
        },
        {
          "output_type": "stream",
          "name": "stdout",
          "text": [
            "Extracting ./data/FashionMNIST/raw/t10k-images-idx3-ubyte.gz to ./data/FashionMNIST/raw\n",
            "\n",
            "Downloading http://fashion-mnist.s3-website.eu-central-1.amazonaws.com/t10k-labels-idx1-ubyte.gz\n",
            "Downloading http://fashion-mnist.s3-website.eu-central-1.amazonaws.com/t10k-labels-idx1-ubyte.gz to ./data/FashionMNIST/raw/t10k-labels-idx1-ubyte.gz\n"
          ]
        },
        {
          "output_type": "stream",
          "name": "stderr",
          "text": [
            "100%|██████████| 5.15k/5.15k [00:00<00:00, 9.67MB/s]"
          ]
        },
        {
          "output_type": "stream",
          "name": "stdout",
          "text": [
            "Extracting ./data/FashionMNIST/raw/t10k-labels-idx1-ubyte.gz to ./data/FashionMNIST/raw\n",
            "\n"
          ]
        },
        {
          "output_type": "stream",
          "name": "stderr",
          "text": [
            "\n"
          ]
        },
        {
          "output_type": "stream",
          "name": "stdout",
          "text": [
            "Training data shape: (60000, 28, 28)\n",
            "Test data shape: torch.Size([10000, 28, 28])\n"
          ]
        },
        {
          "output_type": "display_data",
          "data": {
            "text/plain": [
              "<Figure size 1000x1000 with 9 Axes>"
            ],
            "image/png": "[encoded data removed]"
          },
          "metadata": {}
        },
        {
          "output_type": "stream",
          "name": "stdout",
          "text": [
            "\n",
            "Epoch 1/10\n",
            "--------------------\n",
            "  Batch 100/938: Loss: 1.2393 | Accuracy: 55.64%\n",
            "  Batch 200/938: Loss: 0.9856 | Accuracy: 63.97%\n",
            "  Batch 300/938: Loss: 0.8763 | Accuracy: 68.01%\n",
            "  Batch 400/938: Loss: 0.8127 | Accuracy: 70.16%\n",
            "  Batch 500/938: Loss: 0.7686 | Accuracy: 71.72%\n",
            "  Batch 600/938: Loss: 0.7355 | Accuracy: 72.97%\n",
            "  Batch 700/938: Loss: 0.7055 | Accuracy: 74.08%\n",
            "  Batch 800/938: Loss: 0.6832 | Accuracy: 74.94%\n",
            "  Batch 900/938: Loss: 0.6637 | Accuracy: 75.70%\n",
            "\n",
            "Epoch 1 Summary:\n",
            "  Training Loss: 0.6550 | Training Accuracy: 76.02%\n",
            "  Validation Loss: 0.4278 | Validation Accuracy: 84.66%\n",
            "--------------------------------------------------\n",
            "\n",
            "Epoch 2/10\n",
            "--------------------\n",
            "  Batch 100/938: Loss: 0.4689 | Accuracy: 83.12%\n",
            "  Batch 200/938: Loss: 0.4724 | Accuracy: 82.92%\n",
            "  Batch 300/938: Loss: 0.4702 | Accuracy: 83.07%\n",
            "  Batch 400/938: Loss: 0.4658 | Accuracy: 83.21%\n",
            "  Batch 500/938: Loss: 0.4640 | Accuracy: 83.33%\n",
            "  Batch 600/938: Loss: 0.4598 | Accuracy: 83.56%\n",
            "  Batch 700/938: Loss: 0.4546 | Accuracy: 83.71%\n",
            "  Batch 800/938: Loss: 0.4523 | Accuracy: 83.82%\n",
            "  Batch 900/938: Loss: 0.4484 | Accuracy: 83.95%\n",
            "\n",
            "Epoch 2 Summary:\n",
            "  Training Loss: 0.4475 | Training Accuracy: 84.01%\n",
            "  Validation Loss: 0.3545 | Validation Accuracy: 87.04%\n",
            "--------------------------------------------------\n",
            "\n",
            "Epoch 3/10\n",
            "--------------------\n",
            "  Batch 100/938: Loss: 0.4045 | Accuracy: 85.58%\n",
            "  Batch 200/938: Loss: 0.3991 | Accuracy: 85.73%\n",
            "  Batch 300/938: Loss: 0.4031 | Accuracy: 85.56%\n",
            "  Batch 400/938: Loss: 0.4024 | Accuracy: 85.57%\n",
            "  Batch 500/938: Loss: 0.4025 | Accuracy: 85.56%\n",
            "  Batch 600/938: Loss: 0.3987 | Accuracy: 85.68%\n",
            "  Batch 700/938: Loss: 0.3987 | Accuracy: 85.61%\n",
            "  Batch 800/938: Loss: 0.3954 | Accuracy: 85.75%\n",
            "  Batch 900/938: Loss: 0.3917 | Accuracy: 85.89%\n",
            "\n",
            "Epoch 3 Summary:\n",
            "  Training Loss: 0.3911 | Training Accuracy: 85.89%\n",
            "  Validation Loss: 0.3232 | Validation Accuracy: 88.35%\n",
            "--------------------------------------------------\n",
            "\n",
            "Epoch 4/10\n",
            "--------------------\n",
            "  Batch 100/938: Loss: 0.3461 | Accuracy: 87.27%\n",
            "  Batch 200/938: Loss: 0.3550 | Accuracy: 87.24%\n",
            "  Batch 300/938: Loss: 0.3563 | Accuracy: 87.31%\n",
            "  Batch 400/938: Loss: 0.3590 | Accuracy: 87.15%\n",
            "  Batch 500/938: Loss: 0.3584 | Accuracy: 87.12%\n",
            "  Batch 600/938: Loss: 0.3574 | Accuracy: 87.14%\n",
            "  Batch 700/938: Loss: 0.3568 | Accuracy: 87.16%\n",
            "  Batch 800/938: Loss: 0.3558 | Accuracy: 87.14%\n",
            "  Batch 900/938: Loss: 0.3556 | Accuracy: 87.19%\n",
            "\n",
            "Epoch 4 Summary:\n",
            "  Training Loss: 0.3551 | Training Accuracy: 87.23%\n",
            "  Validation Loss: 0.3020 | Validation Accuracy: 89.06%\n",
            "--------------------------------------------------\n",
            "\n",
            "Epoch 5/10\n",
            "--------------------\n",
            "  Batch 100/938: Loss: 0.3370 | Accuracy: 87.47%\n",
            "  Batch 200/938: Loss: 0.3358 | Accuracy: 87.58%\n",
            "  Batch 300/938: Loss: 0.3357 | Accuracy: 87.72%\n",
            "  Batch 400/938: Loss: 0.3315 | Accuracy: 87.84%\n",
            "  Batch 500/938: Loss: 0.3281 | Accuracy: 88.02%\n",
            "  Batch 600/938: Loss: 0.3312 | Accuracy: 88.02%\n",
            "  Batch 700/938: Loss: 0.3307 | Accuracy: 88.01%\n",
            "  Batch 800/938: Loss: 0.3306 | Accuracy: 88.02%\n",
            "  Batch 900/938: Loss: 0.3293 | Accuracy: 88.12%\n",
            "\n",
            "Epoch 5 Summary:\n",
            "  Training Loss: 0.3296 | Training Accuracy: 88.11%\n",
            "  Validation Loss: 0.2888 | Validation Accuracy: 89.73%\n",
            "--------------------------------------------------\n",
            "\n",
            "Epoch 6/10\n",
            "--------------------\n",
            "  Batch 100/938: Loss: 0.3190 | Accuracy: 88.08%\n",
            "  Batch 200/938: Loss: 0.3094 | Accuracy: 88.56%\n",
            "  Batch 300/938: Loss: 0.3092 | Accuracy: 88.50%\n",
            "  Batch 400/938: Loss: 0.3072 | Accuracy: 88.62%\n",
            "  Batch 500/938: Loss: 0.3054 | Accuracy: 88.71%\n",
            "  Batch 600/938: Loss: 0.3067 | Accuracy: 88.63%\n",
            "  Batch 700/938: Loss: 0.3073 | Accuracy: 88.62%\n",
            "  Batch 800/938: Loss: 0.3073 | Accuracy: 88.74%\n",
            "  Batch 900/938: Loss: 0.3069 | Accuracy: 88.79%\n",
            "\n",
            "Epoch 6 Summary:\n",
            "  Training Loss: 0.3061 | Training Accuracy: 88.82%\n",
            "  Validation Loss: 0.2756 | Validation Accuracy: 90.06%\n",
            "--------------------------------------------------\n",
            "\n",
            "Epoch 7/10\n",
            "--------------------\n",
            "  Batch 100/938: Loss: 0.2912 | Accuracy: 89.67%\n",
            "  Batch 200/938: Loss: 0.2877 | Accuracy: 89.58%\n",
            "  Batch 300/938: Loss: 0.2846 | Accuracy: 89.69%\n",
            "  Batch 400/938: Loss: 0.2880 | Accuracy: 89.48%\n",
            "  Batch 500/938: Loss: 0.2874 | Accuracy: 89.46%\n",
            "  Batch 600/938: Loss: 0.2880 | Accuracy: 89.51%\n",
            "  Batch 700/938: Loss: 0.2881 | Accuracy: 89.52%\n",
            "  Batch 800/938: Loss: 0.2881 | Accuracy: 89.47%\n",
            "  Batch 900/938: Loss: 0.2880 | Accuracy: 89.47%\n",
            "\n",
            "Epoch 7 Summary:\n",
            "  Training Loss: 0.2871 | Training Accuracy: 89.53%\n",
            "  Validation Loss: 0.2744 | Validation Accuracy: 90.01%\n",
            "--------------------------------------------------\n",
            "\n",
            "Epoch 8/10\n",
            "--------------------\n",
            "  Batch 100/938: Loss: 0.2842 | Accuracy: 89.88%\n",
            "  Batch 200/938: Loss: 0.2817 | Accuracy: 89.66%\n",
            "  Batch 300/938: Loss: 0.2795 | Accuracy: 89.72%\n",
            "  Batch 400/938: Loss: 0.2791 | Accuracy: 89.74%\n",
            "  Batch 500/938: Loss: 0.2767 | Accuracy: 89.92%\n",
            "  Batch 600/938: Loss: 0.2778 | Accuracy: 89.85%\n",
            "  Batch 700/938: Loss: 0.2767 | Accuracy: 89.85%\n",
            "  Batch 800/938: Loss: 0.2756 | Accuracy: 89.86%\n",
            "  Batch 900/938: Loss: 0.2761 | Accuracy: 89.86%\n",
            "\n",
            "Epoch 8 Summary:\n",
            "  Training Loss: 0.2748 | Training Accuracy: 89.91%\n",
            "  Validation Loss: 0.2930 | Validation Accuracy: 89.44%\n",
            "--------------------------------------------------\n",
            "\n",
            "Epoch 9/10\n",
            "--------------------\n",
            "  Batch 100/938: Loss: 0.2635 | Accuracy: 89.86%\n",
            "  Batch 200/938: Loss: 0.2619 | Accuracy: 90.37%\n",
            "  Batch 300/938: Loss: 0.2618 | Accuracy: 90.40%\n",
            "  Batch 400/938: Loss: 0.2665 | Accuracy: 90.25%\n",
            "  Batch 500/938: Loss: 0.2675 | Accuracy: 90.24%\n",
            "  Batch 600/938: Loss: 0.2674 | Accuracy: 90.21%\n",
            "  Batch 700/938: Loss: 0.2651 | Accuracy: 90.31%\n",
            "  Batch 800/938: Loss: 0.2651 | Accuracy: 90.28%\n",
            "  Batch 900/938: Loss: 0.2657 | Accuracy: 90.29%\n",
            "\n",
            "Epoch 9 Summary:\n",
            "  Training Loss: 0.2654 | Training Accuracy: 90.31%\n",
            "  Validation Loss: 0.2644 | Validation Accuracy: 90.59%\n",
            "--------------------------------------------------\n",
            "\n",
            "Epoch 10/10\n",
            "--------------------\n",
            "  Batch 100/938: Loss: 0.2526 | Accuracy: 90.61%\n",
            "  Batch 200/938: Loss: 0.2548 | Accuracy: 90.60%\n",
            "  Batch 300/938: Loss: 0.2553 | Accuracy: 90.55%\n",
            "  Batch 400/938: Loss: 0.2537 | Accuracy: 90.66%\n",
            "  Batch 500/938: Loss: 0.2549 | Accuracy: 90.69%\n",
            "  Batch 600/938: Loss: 0.2558 | Accuracy: 90.70%\n",
            "  Batch 700/938: Loss: 0.2555 | Accuracy: 90.69%\n",
            "  Batch 800/938: Loss: 0.2548 | Accuracy: 90.67%\n",
            "  Batch 900/938: Loss: 0.2550 | Accuracy: 90.68%\n",
            "\n",
            "Epoch 10 Summary:\n",
            "  Training Loss: 0.2542 | Training Accuracy: 90.70%\n",
            "  Validation Loss: 0.2860 | Validation Accuracy: 90.13%\n",
            "--------------------------------------------------\n"
          ]
        },
        {
          "output_type": "display_data",
          "data": {
            "text/plain": [
              "<Figure size 1000x600 with 1 Axes>"
            ],
            "image/png": "[encoded data removed]"
          },
          "metadata": {}
        },
        {
          "output_type": "stream",
          "name": "stdout",
          "text": [
            "\n",
            "Final Test Results:\n",
            "--------------------------------------------------\n",
            "Test Accuracy: 90.13%\n",
            "\n",
            "Model saved successfully!\n"
          ]
        }
      ]
    },
    {
      "cell_type": "code",
      "source": [
        "ls"
      ],
      "metadata": {
        "colab": {
          "base_uri": "https://localhost:8080/"
        },
        "id": "tp-PTG-7z_jP",
        "outputId": "19d5ced0-a7f5-420d-879b-45cbc05355c9"
      },
      "execution_count": 2,
      "outputs": [
        {
          "output_type": "stream",
          "name": "stdout",
          "text": [
            "\u001b[0m\u001b[01;34mdata\u001b[0m/  fashion_mnist_cnn_v2.pth  \u001b[01;34msample_data\u001b[0m/\n"
          ]
        }
      ]
    }
  ]
}